{
 "cells": [
  {
   "cell_type": "markdown",
   "metadata": {},
   "source": [
    "### 1D and 2D Discrete Wavelet Transform"
   ]
  },
  {
   "cell_type": "code",
   "execution_count": null,
   "metadata": {},
   "outputs": [],
   "source": [
    "import numpy as np\n",
    "# we need to install PyWavelets labrary either by running \"pip install PyWavelets\" or \"conda install pywavelets\"\n",
    "import pywt\n",
    "from matplotlib.pyplot import imshow\n",
    "import matplotlib.pyplot as plt\n"
   ]
  },
  {
   "cell_type": "code",
   "execution_count": null,
   "metadata": {},
   "outputs": [],
   "source": [
    "# The PyWavelets library contains 14 Mother wavelets, varying by shape, smoothness and compactness. \n",
    "# They satisfy two mathematical conditions: 1. They are localized in time and frequency, 2. They have 0 mean.\n",
    "# Explore wavelets further http://wavelets.pybytes.com/\n",
    "print(pywt.families(short=False))\n"
   ]
  },
  {
   "cell_type": "code",
   "execution_count": null,
   "metadata": {},
   "outputs": [],
   "source": [
    "discrete_wavelets=['Haar','db7','sym3','coif3']\n",
    "continuous_wavelets=['mexh','morl','gaus5','cgau7']\n",
    "\n",
    "wavelets=[discrete_wavelets, continuous_wavelets]\n",
    "funcs=[pywt.Wavelet, pywt.ContinuousWavelet]\n",
    "fig, axarr = plt.subplots(nrows=2, ncols=4, figsize=(16,8))\n",
    "for i, get_wavelets in enumerate(wavelets):\n",
    "    func=funcs[i]\n",
    "    row_no=i\n",
    "    for col_no, wavel_name in enumerate(get_wavelets):\n",
    "        wavelet=func(wavel_name) \n",
    "        family_name=wavelet.family_name\n",
    "        if i==0:\n",
    "            f=wavelet.wavefun()\n",
    "            wavelet_function=f[0] # get an array of y-values\n",
    "            x_values=f[-1] # get an array of x-values\n",
    "        else:\n",
    "            wavelet_function, x_values=wavelet.wavefun()\n",
    "        if col_no==0 and i==0:\n",
    "            axarr[row_no, col_no].set_ylabel(\"Discrete Wavelets\", fontsize=16)\n",
    "        if col_no==0 and i==1:\n",
    "            axarr[row_no, col_no].set_ylabel(\"Continuous Wavelets\", fontsize=16)\n",
    "        axarr[row_no, col_no].set_title(\"{}\".format(family_name), fontsize=16)\n",
    "        axarr[row_no, col_no].plot(x_values, wavelet_function)\n",
    "        axarr[row_no, col_no].set_yticks([])\n",
    "        axarr[row_no, col_no].set_yticklabels([])\n",
    "\n",
    "plt.show()\n"
   ]
  },
  {
   "cell_type": "markdown",
   "metadata": {},
   "source": [
    "### How are these wavelets different?"
   ]
  },
  {
   "cell_type": "markdown",
   "metadata": {},
   "source": [
    "## Discrete Wavelet transform: 1D study"
   ]
  },
  {
   "cell_type": "markdown",
   "metadata": {},
   "source": [
    "We have seen that the DWT is implemented as a filter bank or a cascade of high-pass and low-pass filters. \n",
    "To apply the DWT on a signal, we start with the smallest scale. Small scales correspond to high frequencies. We first analyze high frequency behavior. At the second stage, the scale increases by a factor of 2 (the frequency decreases by a factor of 2). At this stage, we analyze the signal sections of half of the maximum frequency. We keep iterating the decomposition process until we reach a maximum decomposition level.\n",
    "Understanding of the maximum decomposition level: Due to downsampling, at some stage in the process, the number of samples in the signal will become smaller than the length of the wavelet filter and we will have reached the maximum decomposition level.\n"
   ]
  },
  {
   "cell_type": "code",
   "execution_count": null,
   "metadata": {},
   "outputs": [],
   "source": [
    "# create a signal to analyse\n",
    "from scipy.signal import chirp, spectrogram\n",
    "# e.g., linear chirp satisfies the following equation: f(t)=f0+(f1-f0)*t/t1\n",
    "t=np.linspace(0, 10, 1500) # 1500 sampling points in 10 seconds\n",
    "signal=chirp(t, f0=6, f1=1,t1=10, method='linear')\n",
    "plt.plot(t,signal)\n",
    "plt.title(\"Linear Chirp, f(0)=6, f(10)=1\")\n",
    "plt.xlabel('t (sec)')\n",
    "plt.show()"
   ]
  },
  {
   "cell_type": "markdown",
   "metadata": {},
   "source": [
    "### Computing the frequency range of different levels of the coefficients.\n",
    "We have 1500 sampling points in 10 sec. This means that we have the frequency of 150 samples per second.\n",
    "So, the first approximation level will contain frequencies from 0 to 75, and the detail from 75 to 150.\n",
    "The second level approximation will contain frequencies from 0 to 37.5, and the detail will contain the subband from 37.5 until 75.\n",
    "The third level approximation will contain frequencies up to 18.75, and the detail will contain a subband between 18.75 and 37.5.\n",
    "Finally, the fourth level will contain frequencies up to 9.375, and the detail will contain the frequency range of [9.375, 18.75]."
   ]
  },
  {
   "cell_type": "code",
   "execution_count": null,
   "metadata": {},
   "outputs": [],
   "source": [
    "data = signal\n",
    "waveletname = 'db7'\n",
    "# let's setup a 4-step filter bank to find the approximation and detail wavelet coefficients of the signal wavelet transform   \n",
    "fig, axarr = plt.subplots(nrows=4, ncols=2, figsize=(8,8))\n",
    "#collect the wavelet coefficients into \n",
    "app_coeffs=[]\n",
    "det_coeffs=[]\n",
    "for i in range(4):\n",
    "    (data, coeff_d) = pywt.dwt(data, waveletname) # perform single stage iteratively\n",
    "    app_coeffs.append(data)# approximation coefs\n",
    "    det_coeffs.append(coeff_d)\n",
    "    axarr[i, 0].plot(data, 'b')\n",
    "    axarr[i, 1].plot(coeff_d, 'g')\n",
    "    axarr[i, 0].set_ylabel(\"Level {}\".format(i + 1), fontsize=14, rotation=90)\n",
    "    axarr[i, 0].set_yticklabels([])\n",
    "    if i == 0:\n",
    "        axarr[i, 0].set_title(\"Approximation coefficients\", fontsize=14)\n",
    "        axarr[i, 1].set_title(\"Detail coefficients\", fontsize=14)\n",
    "    axarr[i, 1].set_yticklabels([])\n",
    "plt.tight_layout()\n",
    "plt.show()"
   ]
  },
  {
   "cell_type": "markdown",
   "metadata": {},
   "source": [
    "### Question 1: Given results obtained above, what represents the output of the high pass filter? What happens to signal resolution as you go from one level of the wavelet transform to the next? How were detail coefficients at each level generated?  "
   ]
  },
  {
   "cell_type": "code",
   "execution_count": null,
   "metadata": {},
   "outputs": [],
   "source": [
    "# leave your answer here\n",
    "\n"
   ]
  },
  {
   "cell_type": "code",
   "execution_count": null,
   "metadata": {},
   "outputs": [],
   "source": [
    "## Signal reconstruction/ synthesis\n",
    "#___________________________________\n",
    "order=[3,2,1,0]\n",
    "app_coeffs=[app_coeffs[i] for i in order]\n",
    "det_coeffs=[det_coeffs[i] for i in order]\n",
    "coeffs = pywt.wavedec(signal, 'db7', level=4)# prepare all coefficients in the right format for .waverec function\n",
    "signal_r=pywt.waverec(coeffs, 'db7')\n",
    "fig=plt.figure(figsize=(16,8))\n",
    "plt.subplot(121)\n",
    "plt.plot(t,signal)\n",
    "plt.title(\"Original\")\n",
    "plt.xlabel('t (sec)')\n",
    "plt.subplot(122)\n",
    "plt.plot(t,signal_r, color='r')\n",
    "plt.title(\"Reconsructed from 4-step filter bank\")\n",
    "plt.xlabel('t (sec)')\n",
    "plt.show()"
   ]
  },
  {
   "cell_type": "code",
   "execution_count": null,
   "metadata": {},
   "outputs": [],
   "source": [
    "coeffs"
   ]
  },
  {
   "cell_type": "markdown",
   "metadata": {},
   "source": [
    "### 2D DWT for image denoising"
   ]
  },
  {
   "cell_type": "markdown",
   "metadata": {},
   "source": [
    "### Recall 2D coordinate conventions\n",
    "\n",
    "#### imshow convention\n",
    "#### -----------------------\n",
    "           axis y\n",
    "           |---------->\n",
    "           |\n",
    "           |\n",
    "           |\n",
    "    axis x V       \n"
   ]
  },
  {
   "cell_type": "markdown",
   "metadata": {},
   "source": [
    "#### Load an image as an array of 515x512 with pixel intensities in the range from 0 to 255. We corrupt the image with Gaussian noise ($\\sigma=16$) and perform denoising using Haar wavelet coefficients."
   ]
  },
  {
   "cell_type": "code",
   "execution_count": null,
   "metadata": {},
   "outputs": [],
   "source": [
    "import scipy\n",
    "image1 = scipy.misc.ascent().astype(float)\n",
    " \n",
    "noiseSigma = 32.0\n",
    "image = image1+ np.random.normal(0, noiseSigma, size=image1.shape)\n",
    "plt.subplot(121)\n",
    "imshow(image, cmap='gray')\n",
    "plt.title('Noisy image')\n",
    "plt.subplot(122)\n",
    "imshow(image1, cmap='gray')\n",
    "plt.title('Original image')"
   ]
  },
  {
   "cell_type": "code",
   "execution_count": null,
   "metadata": {},
   "outputs": [],
   "source": [
    "wavelet = pywt.Wavelet('haar')\n",
    "levels=?\n"
   ]
  },
  {
   "cell_type": "markdown",
   "metadata": {},
   "source": [
    "### Question 2. What is the maximum highest decomposition level we can reach if we apply the multi-step filter bank? Hint: Consider the size of the image and how many times you can downsample it before you run out of image samples. "
   ]
  },
  {
   "cell_type": "code",
   "execution_count": null,
   "metadata": {},
   "outputs": [],
   "source": [
    "# Leave you answer here\n",
    "512-->256-->128"
   ]
  },
  {
   "cell_type": "code",
   "execution_count": null,
   "metadata": {},
   "outputs": [],
   "source": [
    "levels=9\n",
    "wavelet_coeffs=pywt.wavedec2(image, wavelet, level=levels)\n"
   ]
  },
  {
   "cell_type": "code",
   "execution_count": null,
   "metadata": {},
   "outputs": [],
   "source": [
    "print(\"approximation at the highest level\", wavelet_coeffs[0])\n"
   ]
  },
  {
   "cell_type": "code",
   "execution_count": null,
   "metadata": {},
   "outputs": [],
   "source": [
    "print(\"detail coefficients at the highest level (horizontal, vertical, diagonal)\", wavelet_coeffs[1])\n"
   ]
  },
  {
   "cell_type": "code",
   "execution_count": null,
   "metadata": {},
   "outputs": [],
   "source": [
    "print(\"approximation at the second highest level\", wavelet_coeffs[1])\n"
   ]
  },
  {
   "cell_type": "code",
   "execution_count": null,
   "metadata": {
    "scrolled": true
   },
   "outputs": [],
   "source": [
    "print(\"detail coefficients at the second highest level (horizontal, vertical, diagonal)\", wavelet_coeffs[2])\n"
   ]
  },
  {
   "cell_type": "markdown",
   "metadata": {},
   "source": [
    "In order to denoise our image, we will be using a threshold model available in pywt library, specifically, pywt.thresholding.soft.\n",
    "We will be applying it to each single wavelet coefficient.\n"
   ]
  },
  {
   "cell_type": "code",
   "execution_count": null,
   "metadata": {},
   "outputs": [],
   "source": [
    "threshold=noiseSigma*np.sqrt(2*np.log2(image.size))\n"
   ]
  },
  {
   "cell_type": "code",
   "execution_count": null,
   "metadata": {},
   "outputs": [],
   "source": [
    "# We use a soft thresholding on each of the wavelet coefficients. Data values with absolute value less than \"threshold\"\n",
    "# are replaced with a substitute\n",
    "new=[]\n",
    "k=0\n",
    "for s in wavelet_coeffs:\n",
    "    if k==0:\n",
    "        new_ar=np.ndarray((1,1),buffer=np.zeros((1,1)))\n",
    "        new_ar=s\n",
    "        new.append(new_ar)\n",
    "    else:    \n",
    "        new_ar=[]\n",
    "        for i in range(len(s)):\n",
    "            s_soft = pywt.threshold(s[i], value=threshold, mode='soft')   \n",
    "            new_ar.append(s_soft)\n",
    "        new_ar=tuple(new_ar)   \n",
    "        new.append(new_ar)    \n",
    "    k=k+1  \n",
    "\n",
    "# We obtain the corresponding reconstruction\n",
    "newimage = pywt.waverec2(new, wavelet)\n"
   ]
  },
  {
   "cell_type": "code",
   "execution_count": null,
   "metadata": {},
   "outputs": [],
   "source": [
    "imshow(newimage, cmap='gray')\n",
    "plt.title(\"Reconstructed image with Haar wavelet\")\n"
   ]
  },
  {
   "cell_type": "markdown",
   "metadata": {},
   "source": [
    "### Question 3: Why are you observing a block-like artifact in the reconstructed image? Does the choice of the wavelet matter?\n"
   ]
  },
  {
   "cell_type": "code",
   "execution_count": null,
   "metadata": {},
   "outputs": [],
   "source": [
    "# Type your answer here\n"
   ]
  },
  {
   "cell_type": "code",
   "execution_count": null,
   "metadata": {},
   "outputs": [],
   "source": [
    "#Can we find a better solution with a different choice of wavelet? In the function below, we keep the threshold the same,\n",
    "# but we can explore other choices of wavelet functions.\n",
    "\n",
    "def denoise(data, wavelet, noiseSigma):\n",
    "    levels=9\n",
    "    wave_c=pywt.wavedec2(data,wavelet,level=levels)\n",
    "    threshold=noiseSigma*np.sqrt(2*np.log2(data.size))\n",
    "    new=[]\n",
    "    k=0\n",
    "    for s in wave_c:\n",
    "        if k==0:\n",
    "            new_ar=np.ndarray((1,1),buffer=np.zeros((1,1)))\n",
    "            new_ar=s\n",
    "            new.append(new_ar)\n",
    "        else:    \n",
    "            new_ar=[]\n",
    "            for i in range(len(s)):\n",
    "                s_soft = pywt.threshold(s[i], value=threshold, mode='soft')   \n",
    "                new_ar.append(s_soft)\n",
    "            new_ar=tuple(new_ar)   \n",
    "            new.append(new_ar)    \n",
    "        k=k+1  \n",
    "    # We obtain the corresponding reconstruction\n",
    "    newimage = pywt.waverec2(new, wavelet)\n",
    "    return newimage\n"
   ]
  },
  {
   "cell_type": "code",
   "execution_count": null,
   "metadata": {},
   "outputs": [],
   "source": [
    "# Let's see the result with coif3\n",
    "image_coif=denoise(data=image, wavelet='coif3',noiseSigma=32.0)\n",
    "imshow(image_coif, cmap='gray')\n",
    "plt.title(\"Reconstructed image with coif3 wavelet\")\n"
   ]
  },
  {
   "cell_type": "markdown",
   "metadata": {},
   "source": [
    "### Question 4: Choose other two wavelets from discrete_wavelets=['Haar','db7','sym3','coif3'] , use the \"denoise\" function for noise reduction and comment on the quality of image denoising depending on the choice of the wavelet. What do you think other ways we should try in order to improve denoising result? "
   ]
  },
  {
   "cell_type": "code",
   "execution_count": null,
   "metadata": {},
   "outputs": [],
   "source": [
    "# Leave your answer here\n",
    "\n"
   ]
  }
 ],
 "metadata": {
  "kernelspec": {
   "display_name": "Python 3 (ipykernel)",
   "language": "python",
   "name": "python3"
  },
  "language_info": {
   "codemirror_mode": {
    "name": "ipython",
    "version": 3
   },
   "file_extension": ".py",
   "mimetype": "text/x-python",
   "name": "python",
   "nbconvert_exporter": "python",
   "pygments_lexer": "ipython3",
   "version": "3.9.7"
  }
 },
 "nbformat": 4,
 "nbformat_minor": 4
}
