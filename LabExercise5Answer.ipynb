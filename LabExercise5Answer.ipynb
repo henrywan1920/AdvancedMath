{
 "cells": [
  {
   "cell_type": "markdown",
   "metadata": {
    "id": "wg5cWHALhLkJ"
   },
   "source": [
    "## LDA and NMF exploration "
   ]
  },
  {
   "cell_type": "markdown",
   "metadata": {
    "id": "qgEJPr5ghLkM"
   },
   "source": [
    "### Given the bag of words matrix (A), we want to evaluate probabilitiy distributions of topics per document and of words per topic. These probabilities are represented by matrices $\\Theta$ and $\\Phi$, respectively."
   ]
  },
  {
   "cell_type": "code",
   "execution_count": 1,
   "metadata": {
    "id": "0cZpnyeDhLkM"
   },
   "outputs": [],
   "source": [
    "from sklearn.datasets import fetch_20newsgroups\n",
    "ds = fetch_20newsgroups(shuffle=True, random_state=1, remove=('headers','footers','quotes'))\n",
    "documents=ds.data"
   ]
  },
  {
   "cell_type": "markdown",
   "metadata": {
    "id": "AUPP9L2PFy2W"
   },
   "source": [
    "### If you wanna learn more about the topics, I'll include the links i've used to learn. Please use it\n",
    "\n",
    "\n",
    "1. LDA - https://towardsdatascience.com/latent-dirichlet-allocation-lda-9d1cd064ffa2\n",
    "\n",
    "2. CountVectorizer - https://towardsdatascience.com/basics-of-countvectorizer-e26677900f9c\n",
    "\n",
    "3. implementation of LDA : https://towardsdatascience.com/latent-dirichlet-allocation-for-topic-modelling-explained-algorithm-and-python-scikit-learn-c65a82e7304d\n",
    "\n"
   ]
  },
  {
   "cell_type": "code",
   "execution_count": 2,
   "metadata": {
    "id": "Zpc8e0SehLkN"
   },
   "outputs": [],
   "source": [
    "#documents"
   ]
  },
  {
   "cell_type": "markdown",
   "metadata": {
    "id": "lgbyZcsFIvui"
   },
   "source": [
    "### Since LDA is based on Bag of words, we are using Countvectorizer for building BOG"
   ]
  },
  {
   "cell_type": "code",
   "execution_count": 3,
   "metadata": {
    "colab": {
     "base_uri": "https://localhost:8080/"
    },
    "executionInfo": {
     "elapsed": 1981,
     "status": "ok",
     "timestamp": 1648087323521,
     "user": {
      "displayName": "Apollo Vishwas",
      "photoUrl": "https://lh3.googleusercontent.com/a-/AOh14Gh2E7V6U-1Hdz5mnjGa7KA88HP7Fx2C3wK3aPFGvA=s64",
      "userId": "10061708290413750317"
     },
     "user_tz": 240
    },
    "id": "OPzBB0T1hLkO",
    "outputId": "2abc67a3-6baf-459e-d04b-56ec75c3d266"
   },
   "outputs": [
    {
     "name": "stdout",
     "output_type": "stream",
     "text": [
      "(11314, 1000)\n"
     ]
    },
    {
     "name": "stderr",
     "output_type": "stream",
     "text": [
      "/Users/hwan/opt/anaconda3/envs/machine_learning_v2/lib/python3.9/site-packages/sklearn/utils/deprecation.py:87: FutureWarning: Function get_feature_names is deprecated; get_feature_names is deprecated in 1.0 and will be removed in 1.2. Please use get_feature_names_out instead.\n",
      "  warnings.warn(msg, category=FutureWarning)\n"
     ]
    }
   ],
   "source": [
    "\n",
    "\n",
    "import numpy as np\n",
    "from sklearn.feature_extraction.text import TfidfVectorizer, CountVectorizer\n",
    "no_features=1000\n",
    "# perform document vectorization\n",
    "lda_vectorizer=CountVectorizer(max_df=0.90, min_df=2, max_features=no_features, stop_words='english')\n",
    "\n",
    "lda=lda_vectorizer.fit_transform(documents)\n",
    "lda_feature_names=lda_vectorizer.get_feature_names()\n",
    "# extract matrix A of word counts\n",
    "A=lda.toarray()\n",
    "print(np.shape(lda.toarray()))\n",
    "\n",
    "# we have 11314 rows and 1000 columns\n",
    "\n",
    "#a.head"
   ]
  },
  {
   "cell_type": "code",
   "execution_count": 4,
   "metadata": {
    "id": "wXTc2x4whLkP"
   },
   "outputs": [],
   "source": [
    "#If you wanna look at unique feature names, uncomment this one\n",
    "\n",
    "#b=lda_feature_names\n",
    "#b"
   ]
  },
  {
   "cell_type": "markdown",
   "metadata": {
    "id": "UFZSfqjRhLkP"
   },
   "source": [
    "The given word co-occurrence matrix is a sparse matrix of size 1134x1000."
   ]
  },
  {
   "cell_type": "code",
   "execution_count": 5,
   "metadata": {
    "id": "KeuzCSnFhLkQ"
   },
   "outputs": [],
   "source": [
    "### Normalize rows of the matrix A to sum to 1 ----> turning them into a sum of probaility?\n",
    "A=A[~np.all(A==0, axis=1)] # remove rows with zeros\n",
    "#print(A.shape) ---> this line will hive you the shape of array after removing zeros.(10907,1000)\n",
    "s=A.sum(axis=1) # sums of row elements-->So that we can use it to divide to get probabilty.\n",
    "#print(s[0])\n",
    "s=s[:,np.newaxis]\n",
    "A_norm=A/s\n",
    "#print(A_norm[0]) now we have the probailities\n",
    "res=A_norm[~np.all(A_norm==0, axis=1)] # remove rows containing only zeros ----> if a row contains only zeros, that means, it doesn't have any texts"
   ]
  },
  {
   "cell_type": "markdown",
   "metadata": {
    "id": "WrN5xO3EhLkR"
   },
   "source": [
    "### LDA modeling with the number of topics = 20"
   ]
  },
  {
   "cell_type": "code",
   "execution_count": 6,
   "metadata": {
    "id": "i9CAlyb-hLkR"
   },
   "outputs": [],
   "source": [
    "from sklearn.decomposition import LatentDirichletAllocation\n",
    "topic_n=20\n",
    "# both batch and online modes are related to the execution of the Expectation-Minimization algorithm\n",
    "lda_model=LatentDirichletAllocation(n_components=topic_n, max_iter=10,learning_method='online',\n",
    "          doc_topic_prior=2, learning_offset=50, random_state=0).fit(res)"
   ]
  },
  {
   "cell_type": "code",
   "execution_count": 7,
   "metadata": {
    "id": "SsYFrKDAhLkS"
   },
   "outputs": [],
   "source": [
    "a = lda_model.components_\n",
    "#a[1]"
   ]
  },
  {
   "cell_type": "markdown",
   "metadata": {
    "id": "4VrnTYLNMpHr"
   },
   "source": [
    "components_ : Variational parameters for topic word distribution. Since the complete conditional for topic word distribution is a Dirichlet, components_[i, j] can be viewed as pseudocount that represents the number of times word j was assigned to topic i. It can also be viewed as distribution over the words for each topic after normalization: model.components_ / model.components_.sum(axis=1)[:, np.newaxis]."
   ]
  },
  {
   "cell_type": "markdown",
   "metadata": {
    "id": "hT8lqMKQmzrP"
   },
   "source": [
    "## Θ - Probabilty between topics and documents\n",
    "\n",
    "## Φ - Probabilty between words and topics"
   ]
  },
  {
   "cell_type": "markdown",
   "metadata": {
    "id": "xuw5aLIKhLkS"
   },
   "source": [
    "### Questions: What matrix does the above array represent? $\\Theta$ or $\\Phi$? What is the constraint rule that it has to satisfy? What operation would you perform on the above array in order to satisfy this constraint?"
   ]
  },
  {
   "cell_type": "markdown",
   "metadata": {
    "id": "D9kuS11YHW97"
   },
   "source": [
    "### Answer\n",
    "\n",
    "**What matrix does the above array represent?  Θ  or  Φ ?**\n",
    "\n",
    "\n",
    "The matrix represents Φ. The constraint is the number of times a particular word is assigned to a topic.\n",
    "\n",
    "**What is the constraint rule that it has to satisfy? What operation would you perform on the above array in order to satisfy this constraint?**\n",
    "\n",
    "\n",
    "\n",
    "we can divide the matrix by the sum of their corresponding rows in order to satisfy the above constraint."
   ]
  },
  {
   "cell_type": "code",
   "execution_count": 12,
   "metadata": {
    "id": "JUdVkj_KhLkS"
   },
   "outputs": [
    {
     "name": "stdout",
     "output_type": "stream",
     "text": [
      "The answer is above the cell.\n"
     ]
    }
   ],
   "source": [
    "# leave your answer here\n",
    "#What matrix does the above array represent?  Θ  or  Φ ?\n",
    "#The matrix represents Φ. This contains the pseudocount of number of times a particular word is assigned to a topic.\n",
    "\n",
    "# What is the constraint rule that it has to satisfy? What operation would you perform on the above array in order to satisfy this constraint?\n",
    "# we can divide the matrix by the sum of their corresponding rows in order to satisfy this constraint.\n",
    "\n",
    "print(\"The answer is above the cell.\")\n"
   ]
  },
  {
   "cell_type": "markdown",
   "metadata": {
    "id": "aBibRKYnhLkS"
   },
   "source": [
    "Let's find the remaining matrix. How can we interpret its rows?   "
   ]
  },
  {
   "cell_type": "code",
   "execution_count": 9,
   "metadata": {
    "colab": {
     "base_uri": "https://localhost:8080/"
    },
    "executionInfo": {
     "elapsed": 839,
     "status": "ok",
     "timestamp": 1648068259477,
     "user": {
      "displayName": "Daniel Lee",
      "photoUrl": "https://lh3.googleusercontent.com/a/default-user=s64",
      "userId": "10876194588433798562"
     },
     "user_tz": 240
    },
    "id": "qa-cilK1hLkT",
    "outputId": "e0ccdf48-40b1-430c-dd83-c877a04e72ef"
   },
   "outputs": [
    {
     "data": {
      "text/plain": [
       "array([[0.0490991 , 0.05069662, 0.04899343, ..., 0.04945965, 0.04983452,\n",
       "        0.05043733],\n",
       "       [0.04919852, 0.05019689, 0.0494494 , ..., 0.05039332, 0.0498913 ,\n",
       "        0.05081882],\n",
       "       [0.04923379, 0.04914402, 0.04910757, ..., 0.04946726, 0.05261263,\n",
       "        0.05001354],\n",
       "       ...,\n",
       "       [0.0498158 , 0.04938867, 0.04931482, ..., 0.04889487, 0.04917106,\n",
       "        0.0505202 ],\n",
       "       [0.04986369, 0.04946514, 0.04997802, ..., 0.05045374, 0.04937628,\n",
       "        0.04955566],\n",
       "       [0.05023174, 0.04958213, 0.05048218, ..., 0.04962112, 0.05050255,\n",
       "        0.05001966]])"
      ]
     },
     "execution_count": 9,
     "metadata": {},
     "output_type": "execute_result"
    }
   ],
   "source": [
    "fitted_d = lda_model.transform(res)\n",
    "fitted_d"
   ]
  },
  {
   "cell_type": "code",
   "execution_count": 10,
   "metadata": {
    "colab": {
     "base_uri": "https://localhost:8080/"
    },
    "executionInfo": {
     "elapsed": 172,
     "status": "ok",
     "timestamp": 1648087535807,
     "user": {
      "displayName": "Apollo Vishwas",
      "photoUrl": "https://lh3.googleusercontent.com/a-/AOh14Gh2E7V6U-1Hdz5mnjGa7KA88HP7Fx2C3wK3aPFGvA=s64",
      "userId": "10061708290413750317"
     },
     "user_tz": 240
    },
    "id": "I82FmlRthLkT",
    "outputId": "451ad102-3383-4eaa-9b47-b690083df524"
   },
   "outputs": [
    {
     "name": "stdout",
     "output_type": "stream",
     "text": [
      "Topic 1:\n",
      "think data problems area law good simple write sounds black\n",
      "Topic 2:\n",
      "far run second just hear read price probably fast like\n",
      "Topic 3:\n",
      "fact right line need change order use left yes given\n",
      "Topic 4:\n",
      "pretty know key bike state book having maybe issue reading\n",
      "Topic 5:\n",
      "doesn actually david probably information use large little video simply\n",
      "Topic 6:\n",
      "wrong tell did word drivers interested hi test type win\n",
      "Topic 7:\n",
      "got game card dos chip answer anybody 20 wanted won\n",
      "Topic 8:\n",
      "make true sure times subject wouldn look way say like\n",
      "Topic 9:\n",
      "didn way games does money don people john just thing\n",
      "Topic 10:\n",
      "edu car course set based right better info especially man\n",
      "Topic 11:\n",
      "trying place address send home just available ve ca year\n",
      "Topic 12:\n",
      "long new evidence buy just couple looks apple gun said\n",
      "Topic 13:\n",
      "point local hope source advance god better note general exactly\n",
      "Topic 14:\n",
      "ask following isn number power free appreciate programs original ibm\n",
      "Topic 15:\n",
      "bit says email ll 50 version claim oh government wasn\n",
      "Topic 16:\n",
      "thanks hard bad life small really sound list software 100\n",
      "Topic 17:\n",
      "quite thought best problem tried team love read time talk\n",
      "Topic 18:\n",
      "case able old 30 new goes day today soon big\n",
      "Topic 19:\n",
      "university group lot files making israel file nice reply 1993\n",
      "Topic 20:\n",
      "try time like sorry check sale going little said help\n"
     ]
    }
   ],
   "source": [
    "# display top ten words per topic\n",
    "def display_topics(model, feature_names, top_words):\n",
    "    for idx, topic in enumerate(model.components_):\n",
    "        print(\"Topic %d:\" % (idx+1))\n",
    "        print(\" \".join([feature_names[i] for i in topic.argsort()[:-top_words-1:-1]]))\n",
    "top_words=10\n",
    "display_topics(lda_model, lda_feature_names, top_words)"
   ]
  },
  {
   "cell_type": "markdown",
   "metadata": {
    "id": "qOV7LFVXhLkT"
   },
   "source": [
    "Most of these topics do not seem to make sense. Can we fine-tune the model to get better results?"
   ]
  },
  {
   "cell_type": "markdown",
   "metadata": {
    "id": "9jdrZkCZhLkU"
   },
   "source": [
    "### In the code below, we study the effect of Dirichlet parameter choice $\\alpha$ on the distribution of topics 1 and 10 and the clarity of their word representations.    "
   ]
  },
  {
   "cell_type": "code",
   "execution_count": null,
   "metadata": {
    "id": "2cbvjiUNrfP9"
   },
   "outputs": [],
   "source": [
    "#"
   ]
  },
  {
   "cell_type": "markdown",
   "metadata": {
    "id": "2ah0hOYMrVv3"
   },
   "source": [
    "### Here, in the for loop, they are using 'i' on the doc_topic_prior parameter"
   ]
  },
  {
   "cell_type": "code",
   "execution_count": 11,
   "metadata": {
    "colab": {
     "base_uri": "https://localhost:8080/",
     "height": 1000
    },
    "executionInfo": {
     "elapsed": 49057,
     "status": "ok",
     "timestamp": 1648068308531,
     "user": {
      "displayName": "Daniel Lee",
      "photoUrl": "https://lh3.googleusercontent.com/a/default-user=s64",
      "userId": "10876194588433798562"
     },
     "user_tz": 240
    },
    "id": "dontP5OAhLkU",
    "outputId": "c19363d5-6d50-4d57-da93-cbd506b8ad77"
   },
   "outputs": [
    {
     "name": "stdout",
     "output_type": "stream",
     "text": [
      "Fitting LDA models with data topic prior, alpha=0.500000, n_topics=20 \n",
      "done in 4.330s.\n",
      "Fitting LDA models with data topic prior, alpha=1.500000, n_topics=20 \n",
      "done in 4.062s.\n",
      "Fitting LDA models with data topic prior, alpha=2.500000, n_topics=20 \n",
      "done in 4.026s.\n",
      "Fitting LDA models with data topic prior, alpha=3.500000, n_topics=20 \n",
      "done in 4.036s.\n",
      "Fitting LDA models with data topic prior, alpha=4.500000, n_topics=20 \n",
      "done in 4.005s.\n"
     ]
    },
    {
     "data": {
      "image/png": "[encoded data removed]",
      "text/plain": [
       "<Figure size 432x288 with 2 Axes>"
      ]
     },
     "metadata": {
      "needs_background": "light"
     },
     "output_type": "display_data"
    },
    {
     "data": {
      "image/png": "[encoded data removed]",
      "text/plain": [
       "<Figure size 432x288 with 2 Axes>"
      ]
     },
     "metadata": {
      "needs_background": "light"
     },
     "output_type": "display_data"
    },
    {
     "data": {
      "image/png": "[encoded data removed]",
      "text/plain": [
       "<Figure size 432x288 with 2 Axes>"
      ]
     },
     "metadata": {
      "needs_background": "light"
     },
     "output_type": "display_data"
    },
    {
     "data": {
      "image/png": "[encoded data removed]",
      "text/plain": [
       "<Figure size 432x288 with 2 Axes>"
      ]
     },
     "metadata": {
      "needs_background": "light"
     },
     "output_type": "display_data"
    },
    {
     "data": {
      "image/png": "[encoded data removed]",
      "text/plain": [
       "<Figure size 432x288 with 2 Axes>"
      ]
     },
     "metadata": {
      "needs_background": "light"
     },
     "output_type": "display_data"
    }
   ],
   "source": [
    "from matplotlib import pyplot as plt\n",
    "import time\n",
    "from time import time\n",
    "figs={}\n",
    "axs={}\n",
    "k=0\n",
    "for i in np.arange(0.5,5,1):\n",
    "    n_topics = 20\n",
    "    print(\"Fitting LDA models with data topic prior, \"\n",
    "          \"alpha=%2f, n_topics=%d \"\n",
    "          % (i, n_topics))\n",
    "\n",
    "    lda_model = LatentDirichletAllocation(n_components=n_topics, max_iter=5,\n",
    "                                    doc_topic_prior=i,\n",
    "                                    learning_method='online',\n",
    "                                    learning_offset=50.,\n",
    "                                    random_state=0)\n",
    "    t0 = time()\n",
    "    lda_model.fit(res)\n",
    "\n",
    "    fitted_d = lda_model.transform(res)\n",
    "     \n",
    "    figs[i]=plt.figure()\n",
    "    axs[k]=figs[i].add_subplot(211)\n",
    "    axs[k].hist(fitted_d[:,1], bins=30)\n",
    "    axs[k].set_title('topic '+str(1))\n",
    "    axs[k].set_xlabel('topic weights') \n",
    "\n",
    "    axs[k+1]=figs[i].add_subplot(212)\n",
    "    axs[k+1].hist(fitted_d[:,10], bins=30, color='r')\n",
    "    axs[k+1].set_title('topic '+str(10))\n",
    "    axs[k+1].set_xlabel('topic weights') \n",
    "    k=k+1\n",
    "    print(\"done in %0.3fs.\" % (time() - t0))"
   ]
  },
  {
   "cell_type": "markdown",
   "metadata": {
    "id": "0MEpwsqUhLkU"
   },
   "source": [
    "Do you observe a smoothing effect of the increasing $\\alpha$-parameter?"
   ]
  },
  {
   "cell_type": "markdown",
   "metadata": {
    "id": "s51Dj4W_hLkU"
   },
   "source": [
    "### Topics described by top ten words inferred from the probabilistic model trained with $\\alpha$ =0.5 "
   ]
  },
  {
   "cell_type": "markdown",
   "metadata": {
    "id": "05LhA7C9ryF5"
   },
   "source": [
    "### adjustijng the value for the doc_topic_prior parameter\n",
    "\n",
    "What is doc_dopic_prior?\n",
    "\n",
    "Prior of topic word distribution beta."
   ]
  },
  {
   "cell_type": "code",
   "execution_count": 13,
   "metadata": {
    "colab": {
     "base_uri": "https://localhost:8080/"
    },
    "executionInfo": {
     "elapsed": 8892,
     "status": "ok",
     "timestamp": 1648068317419,
     "user": {
      "displayName": "Daniel Lee",
      "photoUrl": "https://lh3.googleusercontent.com/a/default-user=s64",
      "userId": "10876194588433798562"
     },
     "user_tz": 240
    },
    "id": "05I70w7DhLkV",
    "outputId": "10d9be1f-40a7-400e-ddb2-863f48b7ee71"
   },
   "outputs": [
    {
     "name": "stdout",
     "output_type": "stream",
     "text": [
      "Topic 1:\n",
      "problems think data 00 law 15 area add simple write\n",
      "Topic 2:\n",
      "far second stuff price just deleted hear run read unless\n",
      "Topic 3:\n",
      "right fact yes need line heard left use change remember\n",
      "Topic 4:\n",
      "know pretty having key book bike state ago maybe issue\n",
      "Topic 5:\n",
      "doesn actually looking probably video david use information little large\n",
      "Topic 6:\n",
      "windows hi tell wrong did word win test mean interested\n",
      "Topic 7:\n",
      "got game card anybody dos 20 chip posting answer different\n",
      "Topic 8:\n",
      "make sure true look year say times subject wouldn days\n",
      "Topic 9:\n",
      "didn games way agree seen thing play driver don does\n",
      "Topic 10:\n",
      "car edu info better set course monitor man high thanks\n",
      "Topic 11:\n",
      "address send trying place article window available phone home copy\n",
      "Topic 12:\n",
      "long evidence net new just apple example said gun looks\n",
      "Topic 13:\n",
      "point god hope local advance source note exactly means general\n",
      "Topic 14:\n",
      "number following isn ask free original power programs kind really\n",
      "Topic 15:\n",
      "bit says ll email version doing oh memory instead government\n",
      "Topic 16:\n",
      "thanks com list hard life software bad makes small sound\n",
      "Topic 17:\n",
      "thought quite team best tried love pc problem hell steve\n",
      "Topic 18:\n",
      "case able graphics ftp soon 30 big box day goes\n",
      "Topic 19:\n",
      "file group israel university lot reply making files 1993 space\n",
      "Topic 20:\n",
      "try time like sorry going check said mr cost sale\n"
     ]
    }
   ],
   "source": [
    "lda_model=LatentDirichletAllocation(n_components=20, max_iter=5,learning_method='online',\n",
    "          doc_topic_prior=0.5, learning_offset=50, random_state=0).fit(res)\n",
    "display_topics(lda_model, lda_feature_names, top_words)"
   ]
  },
  {
   "cell_type": "markdown",
   "metadata": {
    "id": "jhxfOC4xhLkV"
   },
   "source": [
    "### Topics described by top ten words inferred from the probabilistic model trained with $\\alpha$ =5.0 "
   ]
  },
  {
   "cell_type": "code",
   "execution_count": 14,
   "metadata": {
    "colab": {
     "base_uri": "https://localhost:8080/"
    },
    "executionInfo": {
     "elapsed": 8694,
     "status": "ok",
     "timestamp": 1648068326094,
     "user": {
      "displayName": "Daniel Lee",
      "photoUrl": "https://lh3.googleusercontent.com/a/default-user=s64",
      "userId": "10876194588433798562"
     },
     "user_tz": 240
    },
    "id": "E1hr2DiFhLkV",
    "outputId": "8e9cba97-97c0-40c8-bd40-60a873869bab"
   },
   "outputs": [
    {
     "name": "stdout",
     "output_type": "stream",
     "text": [
      "Topic 1:\n",
      "think data write area knows sounds good problems level black\n",
      "Topic 2:\n",
      "far second just american like fast run plus folks price\n",
      "Topic 3:\n",
      "fact line include use right need left change order yes\n",
      "Topic 4:\n",
      "pretty know bike having key issue reading ago book state\n",
      "Topic 5:\n",
      "doesn david large actually simply information use little probably person\n",
      "Topic 6:\n",
      "word wrong drivers tell like did cause win ones good\n",
      "Topic 7:\n",
      "got chip card game answer dos 20 recently wanted anybody\n",
      "Topic 8:\n",
      "true subject wouldn make times like image say way certainly\n",
      "Topic 9:\n",
      "don does didn just money like way mouse people value\n",
      "Topic 10:\n",
      "set edu man just course monitor interesting single info especially\n",
      "Topic 11:\n",
      "trying place home address just send national clinton ca available\n",
      "Topic 12:\n",
      "looks evidence just started new long lost buy know asking\n",
      "Topic 13:\n",
      "hope source guy local point note israeli general drives exactly\n",
      "Topic 14:\n",
      "ask following isn appreciate number past programs free ago does\n",
      "Topic 15:\n",
      "bit says email 50 wasn know version like effect claim\n",
      "Topic 16:\n",
      "small hard thanks bad life makes 100 really dead sound\n",
      "Topic 17:\n",
      "quite thought best tried talk problem hardware love player time\n",
      "Topic 18:\n",
      "case goes able company 30 hit gets new early day\n",
      "Topic 19:\n",
      "university making israel group files file lot close san night\n",
      "Topic 20:\n",
      "try like time sorry modem sale little check taken war\n"
     ]
    }
   ],
   "source": [
    "lda_model=LatentDirichletAllocation(n_components=20, max_iter=5,learning_method='online',\n",
    "          doc_topic_prior=5, learning_offset=50, random_state=0).fit(res)\n",
    "display_topics(lda_model, lda_feature_names, top_words)"
   ]
  },
  {
   "cell_type": "markdown",
   "metadata": {
    "id": "ijSZRgdQhLkV"
   },
   "source": [
    "### Question: Examine the histogram distribution of topic 1 across all documents for varying values of $\\alpha$. Does it change? Compare word descriptions of topic 1 inferred by LDA model with $\\alpha$=0.5 and $\\alpha$=5.0. Do you find one of them making more sense than another? How are your findings consistent with the behaviour of the corresponding histogram distribution as $\\alpha$ increases?"
   ]
  },
  {
   "cell_type": "markdown",
   "metadata": {
    "id": "n4TsOpFoG6WZ"
   },
   "source": [
    "### Answer:\n",
    " **Examine the histogram distribution of topic 1 across all documents for varying values of  𝛼 .Does it change?**\n",
    " \n",
    " Yes. The Histogram is getting smoother, when the value of 𝛼 increaces. As the value increces, the histogram distribution becomes more and more uniform.\n",
    "\n",
    "\n",
    "\n",
    "** Compare word descriptions of topic 1 inferred by LDA model with  𝛼 =0.5 and  𝛼 =5.0. Do you find one of them making more sense than another?**\n",
    "\n",
    "The model with 𝛼=5 is less ambiguous than the model with 𝛼 =0.5. the topics are uniformly spread over the given domain so that the topics\n",
    " are less ambiguous than the latter one\n",
    "\n",
    "\n",
    "\n",
    " **How are your findings consistent with the behaviour of the corresponding histogram distribution as  𝛼  increases? **\n",
    "\n",
    " Distribution of the histogram becomes more uniform when the value of alpha increaces."
   ]
  },
  {
   "cell_type": "code",
   "execution_count": 15,
   "metadata": {
    "id": "dYBjnZqchLkV"
   },
   "outputs": [],
   "source": [
    "# type your answer here\n",
    " #Question:\n",
    " #Examine the histogram distribution of topic 1 across all documents for varying values of  𝛼 .Does it change?\n",
    " #Yes. The Histogram is getting smoother, when the value of 𝛼 increaces. As the value increces, the histogram distribution becomes more and more uniform.\n",
    "\n",
    " #Compare word descriptions of topic 1 inferred by LDA model with  𝛼 =0.5 and  𝛼 =5.0. Do you find one of them making more sense than another?\n",
    "\n",
    " #The model with 𝛼=5 is less ambiguous than the model with 𝛼 =0.5. the topics are uniformly spread over the given domain so that the topics\n",
    " # are less ambiguous than the latter one\n",
    "\n",
    " #How are your findings consistent with the behaviour of the corresponding histogram distribution as  𝛼  increases?\n",
    " #Distribution of the histogram becomes more uniform when the value of alpha increaces."
   ]
  },
  {
   "cell_type": "markdown",
   "metadata": {
    "id": "dqKTEVK6hLkV"
   },
   "source": [
    "## Non-negative Matrix Factorization"
   ]
  },
  {
   "cell_type": "code",
   "execution_count": 16,
   "metadata": {
    "id": "BXdqlO_BhLkV"
   },
   "outputs": [],
   "source": [
    "from sklearn.decomposition import NMF\n",
    "from sklearn.feature_extraction.text import TfidfVectorizer"
   ]
  },
  {
   "cell_type": "code",
   "execution_count": 17,
   "metadata": {
    "colab": {
     "base_uri": "https://localhost:8080/"
    },
    "executionInfo": {
     "elapsed": 5578,
     "status": "ok",
     "timestamp": 1648068331670,
     "user": {
      "displayName": "Daniel Lee",
      "photoUrl": "https://lh3.googleusercontent.com/a/default-user=s64",
      "userId": "10876194588433798562"
     },
     "user_tz": 240
    },
    "id": "uGTwg8PjhLkW",
    "outputId": "acd4a0ea-6355-472a-e104-36358808fa36"
   },
   "outputs": [
    {
     "name": "stderr",
     "output_type": "stream",
     "text": [
      "/Users/hwan/opt/anaconda3/envs/machine_learning_v2/lib/python3.9/site-packages/sklearn/decomposition/_nmf.py:1422: FutureWarning: `alpha` was deprecated in version 1.0 and will be removed in 1.2. Use `alpha_W` and `alpha_H` instead\n",
      "  warnings.warn(\n"
     ]
    }
   ],
   "source": [
    "# We need to use tf-idf for the sake of feature name generation. NMF, unlike LDA class, has no feature_name attribute.\n",
    "vect = TfidfVectorizer(max_df=0.95, min_df=2, max_features =no_features, stop_words='english')\n",
    "tf=vect.fit_transform(documents)\n",
    "# Here, Frobenius norm has been implemented as the objective function\n",
    "nmf_model=NMF(n_components=topic_n, random_state=1, alpha=0.1, l1_ratio=0.5, init='nndsvd').fit(tf)"
   ]
  },
  {
   "cell_type": "code",
   "execution_count": 18,
   "metadata": {
    "colab": {
     "base_uri": "https://localhost:8080/"
    },
    "executionInfo": {
     "elapsed": 11,
     "status": "ok",
     "timestamp": 1648068331671,
     "user": {
      "displayName": "Daniel Lee",
      "photoUrl": "https://lh3.googleusercontent.com/a/default-user=s64",
      "userId": "10876194588433798562"
     },
     "user_tz": 240
    },
    "id": "WJpwoGYThLkW",
    "outputId": "3361206f-2560-4f9f-a14b-bcf4b79cd809"
   },
   "outputs": [
    {
     "data": {
      "text/plain": [
       "array([[0.        , 0.13707169, 0.        , ..., 0.32544677, 0.03153268,\n",
       "        0.12358671],\n",
       "       [0.        , 0.        , 0.        , ..., 0.03020766, 0.        ,\n",
       "        0.        ],\n",
       "       [0.        , 0.        , 0.        , ..., 0.02249712, 0.        ,\n",
       "        0.        ],\n",
       "       ...,\n",
       "       [0.        , 0.        , 0.        , ..., 0.04532894, 0.        ,\n",
       "        0.        ],\n",
       "       [0.        , 0.        , 0.        , ..., 0.02263642, 0.        ,\n",
       "        0.        ],\n",
       "       [0.        , 0.        , 0.        , ..., 0.0368384 , 0.        ,\n",
       "        0.        ]])"
      ]
     },
     "execution_count": 18,
     "metadata": {},
     "output_type": "execute_result"
    }
   ],
   "source": [
    "# word-topic matrix \n",
    "nmf_model.components_"
   ]
  },
  {
   "cell_type": "code",
   "execution_count": 19,
   "metadata": {
    "colab": {
     "base_uri": "https://localhost:8080/"
    },
    "executionInfo": {
     "elapsed": 310,
     "status": "ok",
     "timestamp": 1648068331973,
     "user": {
      "displayName": "Daniel Lee",
      "photoUrl": "https://lh3.googleusercontent.com/a/default-user=s64",
      "userId": "10876194588433798562"
     },
     "user_tz": 240
    },
    "id": "Ca4w3mkUhLkW",
    "outputId": "a1a19bb3-46b1-4e04-c181-95094dbe31ae"
   },
   "outputs": [
    {
     "name": "stderr",
     "output_type": "stream",
     "text": [
      "/Users/hwan/opt/anaconda3/envs/machine_learning_v2/lib/python3.9/site-packages/sklearn/decomposition/_nmf.py:1422: FutureWarning: `alpha` was deprecated in version 1.0 and will be removed in 1.2. Use `alpha_W` and `alpha_H` instead\n",
      "  warnings.warn(\n"
     ]
    },
    {
     "data": {
      "text/plain": [
       "array([[0.00556792, 0.        , 0.        , ..., 0.        , 0.00481974,\n",
       "        0.        ],\n",
       "       [0.00449807, 0.        , 0.        , ..., 0.        , 0.        ,\n",
       "        0.        ],\n",
       "       [0.00392158, 0.        , 0.        , ..., 0.        , 0.00470433,\n",
       "        0.        ],\n",
       "       ...,\n",
       "       [0.        , 0.        , 0.        , ..., 0.        , 0.        ,\n",
       "        0.        ],\n",
       "       [0.        , 0.        , 0.        , ..., 0.04836511, 0.        ,\n",
       "        0.        ],\n",
       "       [0.00421203, 0.        , 0.        , ..., 0.00178358, 0.        ,\n",
       "        0.        ]])"
      ]
     },
     "execution_count": 19,
     "metadata": {},
     "output_type": "execute_result"
    }
   ],
   "source": [
    "# topic-document matrix\n",
    "fitted_d = nmf_model.transform(res)\n",
    "fitted_d"
   ]
  },
  {
   "cell_type": "code",
   "execution_count": 20,
   "metadata": {
    "colab": {
     "base_uri": "https://localhost:8080/"
    },
    "executionInfo": {
     "elapsed": 7,
     "status": "ok",
     "timestamp": 1648068331974,
     "user": {
      "displayName": "Daniel Lee",
      "photoUrl": "https://lh3.googleusercontent.com/a/default-user=s64",
      "userId": "10876194588433798562"
     },
     "user_tz": 240
    },
    "id": "cOvzV9OHhLkW",
    "outputId": "63e31c40-9583-472e-d8c7-606a44fcaf64"
   },
   "outputs": [
    {
     "name": "stderr",
     "output_type": "stream",
     "text": [
      "/Users/hwan/opt/anaconda3/envs/machine_learning_v2/lib/python3.9/site-packages/sklearn/utils/deprecation.py:87: FutureWarning: Function get_feature_names is deprecated; get_feature_names is deprecated in 1.0 and will be removed in 1.2. Please use get_feature_names_out instead.\n",
      "  warnings.warn(msg, category=FutureWarning)\n"
     ]
    }
   ],
   "source": [
    "nmf_feat=vect.get_feature_names()"
   ]
  },
  {
   "cell_type": "markdown",
   "metadata": {
    "id": "6KA0KEuQhLkW"
   },
   "source": [
    "### The objective function for NMF can be defined either as an $L^2$ or Frobenius norm ($\\sum_{i,j} A_{ij}^2$) with regularization terms added or as a Kullback-Leibler divergence distance defined by the parameter \"beta_loss\".  Below we will compare the clarity of topics discovered using these 2 metrics."
   ]
  },
  {
   "cell_type": "code",
   "execution_count": 21,
   "metadata": {
    "colab": {
     "base_uri": "https://localhost:8080/"
    },
    "executionInfo": {
     "elapsed": 160,
     "status": "ok",
     "timestamp": 1648068332131,
     "user": {
      "displayName": "Daniel Lee",
      "photoUrl": "https://lh3.googleusercontent.com/a/default-user=s64",
      "userId": "10876194588433798562"
     },
     "user_tz": 240
    },
    "id": "G0qzCezYhLkW",
    "outputId": "4a8e1c7b-ab06-444e-954f-2becf5433d40"
   },
   "outputs": [
    {
     "name": "stdout",
     "output_type": "stream",
     "text": [
      "Topic 1:\n",
      "people time right did good said say make way government\n",
      "Topic 2:\n",
      "window problem using server application screen display motif manager running\n",
      "Topic 3:\n",
      "god jesus bible christ faith believe christian christians sin church\n",
      "Topic 4:\n",
      "game team year games season players play hockey win league\n",
      "Topic 5:\n",
      "new 00 sale 10 price offer shipping condition 20 15\n",
      "Topic 6:\n",
      "thanks mail advance hi looking info help information address appreciated\n",
      "Topic 7:\n",
      "windows file files dos program version ftp ms directory running\n",
      "Topic 8:\n",
      "edu soon cs university ftp internet article email pub david\n",
      "Topic 9:\n",
      "key chip clipper encryption keys escrow government public algorithm nsa\n",
      "Topic 10:\n",
      "drive scsi drives hard disk ide floppy controller cd mac\n",
      "Topic 11:\n",
      "just ll thought tell oh little fine work wanted mean\n",
      "Topic 12:\n",
      "does know anybody mean work say doesn help exist program\n",
      "Topic 13:\n",
      "card video monitor cards drivers bus vga driver color memory\n",
      "Topic 14:\n",
      "like sounds looks look bike sound lot things really thing\n",
      "Topic 15:\n",
      "don know want let need doesn little sure sorry things\n",
      "Topic 16:\n",
      "car cars engine speed good bike driver road insurance fast\n",
      "Topic 17:\n",
      "ve got seen heard tried good recently times try couple\n",
      "Topic 18:\n",
      "use used using work available want software need image data\n",
      "Topic 19:\n",
      "think don lot try makes really pretty wasn bit david\n",
      "Topic 20:\n",
      "com list dave internet article sun hp email ibm phone\n"
     ]
    }
   ],
   "source": [
    "# Display topics estimated using Frobenius norm\n",
    "display_topics(nmf_model, nmf_feat, top_words)"
   ]
  },
  {
   "cell_type": "code",
   "execution_count": 22,
   "metadata": {
    "colab": {
     "base_uri": "https://localhost:8080/"
    },
    "executionInfo": {
     "elapsed": 38362,
     "status": "ok",
     "timestamp": 1648068370490,
     "user": {
      "displayName": "Daniel Lee",
      "photoUrl": "https://lh3.googleusercontent.com/a/default-user=s64",
      "userId": "10876194588433798562"
     },
     "user_tz": 240
    },
    "id": "fYfO_SrjhLkW",
    "outputId": "853261fd-7120-4119-864b-b153a7edc0f2"
   },
   "outputs": [
    {
     "name": "stderr",
     "output_type": "stream",
     "text": [
      "/Users/hwan/opt/anaconda3/envs/machine_learning_v2/lib/python3.9/site-packages/sklearn/decomposition/_nmf.py:1422: FutureWarning: `alpha` was deprecated in version 1.0 and will be removed in 1.2. Use `alpha_W` and `alpha_H` instead\n",
      "  warnings.warn(\n"
     ]
    }
   ],
   "source": [
    "# Display topics estimated using Kullback-Leibler norm.\n",
    "nmf_model2=NMF(n_components=topic_n, random_state=1, max_iter=400, alpha=0.1, l1_ratio=0.5, solver='mu', beta_loss='kullback-leibler',init='random').fit(tf)"
   ]
  },
  {
   "cell_type": "code",
   "execution_count": 23,
   "metadata": {
    "colab": {
     "base_uri": "https://localhost:8080/"
    },
    "executionInfo": {
     "elapsed": 16,
     "status": "ok",
     "timestamp": 1648068370490,
     "user": {
      "displayName": "Daniel Lee",
      "photoUrl": "https://lh3.googleusercontent.com/a/default-user=s64",
      "userId": "10876194588433798562"
     },
     "user_tz": 240
    },
    "id": "eF7OpUouhLkW",
    "outputId": "4f46a8d7-b9e2-4355-ec49-37b601b8172c"
   },
   "outputs": [
    {
     "name": "stdout",
     "output_type": "stream",
     "text": [
      "Topic 1:\n",
      "edu information soon university based general thank states internet effect\n",
      "Topic 2:\n",
      "read article book evidence subject came david interesting known science\n",
      "Topic 3:\n",
      "year com game team games play win best players season\n",
      "Topic 4:\n",
      "just problem doesn don like try work maybe little doing\n",
      "Topic 5:\n",
      "oh world image live american ca clinton faq gas allow\n",
      "Topic 6:\n",
      "key power line chip encryption clipper single keys ground technology\n",
      "Topic 7:\n",
      "thanks windows does card know mail hi help anybody advance\n",
      "Topic 8:\n",
      "people heard law wrong gun sort likely government rights certainly\n",
      "Topic 9:\n",
      "buy true israel hand jews children looks war company state\n",
      "Topic 10:\n",
      "drive file files memory disk scsi hard apple machine copy\n",
      "Topic 11:\n",
      "good car old bike high like nice end small low\n",
      "Topic 12:\n",
      "people believe said away sound went hit body radio major\n",
      "Topic 13:\n",
      "god people jesus life ask believe christian bible church religion\n",
      "Topic 14:\n",
      "use using program available window set running sun version screen\n",
      "Topic 15:\n",
      "time did didn ve long say years seen called really\n",
      "Topic 16:\n",
      "lot pretty group news send check sure reading goes issue\n",
      "Topic 17:\n",
      "10 20 15 12 000 30 11 1993 14 16\n",
      "Topic 18:\n",
      "got better tell look thought second hope point net home\n",
      "Topic 19:\n",
      "list interested price sale looking offer cost sell condition new\n",
      "Topic 20:\n",
      "post yes sorry posting deleted hear instead friend mr address\n"
     ]
    }
   ],
   "source": [
    "display_topics(nmf_model2, nmf_feat, top_words)"
   ]
  },
  {
   "cell_type": "markdown",
   "metadata": {
    "id": "xZNmROBUhLkW"
   },
   "source": [
    "### Topic 12 on religion has all relevant words and doe not have an ambiguouse meaning. and Topic 7 is definitely about the gun law! Both norms seem to do an equally good job in topic discovery. \n"
   ]
  },
  {
   "cell_type": "markdown",
   "metadata": {
    "id": "n06K_huuhLkW"
   },
   "source": [
    "### Question: Which method was able to find more meaningful topics? How are NMF and LDA approaches conceptually different? "
   ]
  },
  {
   "cell_type": "markdown",
   "metadata": {
    "id": "wx16Pf45Gfva"
   },
   "source": [
    "### Answer :\n",
    "\n",
    "Unlike LDA, NMF approach is free of a priori constraints placed on word and topic distributions.\n",
    "The LDA is a generative model.\n",
    "Each document is viewed as a mix of multiple distinct topics. An advantage of \n",
    "the LDA technique is that one does not have to know in advance what the topics will look like.\n",
    "\n",
    " Non-negative Matrix Factorization is a Linear-algebraic model, that factors high-dimensional vectors into a low-dimensionality representation.\n",
    "Similar to Principal component analysis (PCA), NMF takes advantage of the fact that the vectors are non-negative.\n",
    "\n",
    "\n",
    "Using NMF we could find more meaningful topics\n"
   ]
  },
  {
   "cell_type": "code",
   "execution_count": 24,
   "metadata": {
    "id": "21U1DKv1hLkX"
   },
   "outputs": [
    {
     "name": "stdout",
     "output_type": "stream",
     "text": [
      "The answer is above the cell\n"
     ]
    }
   ],
   "source": [
    "#Leave your answer here\n",
    "print(\"The answer is above the cell\")"
   ]
  },
  {
   "cell_type": "code",
   "execution_count": 25,
   "metadata": {
    "id": "1nitT0djhaxu"
   },
   "outputs": [],
   "source": [
    "#Which method was able to find more meaningful topics?\n",
    "#Definetly NMF. If you Observe topic 16, it arranged all the numbers under one topic and almost all topics categorized by nmf sounds less ambiguous than \n",
    "#LDA.\n",
    "\n",
    "###Question 1\n",
    "#How are NMF and LDA approaches conceptually different?\n",
    "#Unlike LDA, NMF approach is free of a priori constraints placed on word and topic distributions.\n",
    "#The LDA is a generative model.\n",
    "#Each document is viewed as a mix of multiple distinct topics. An advantage of \n",
    "#the LDA technique is that one does not have to know in advance what the topics will look like.\n",
    "\n",
    "# Non-negative Matrix Factorization is a Linear-algebraic model, that factors high-dimensional vectors into a low-dimensionality representation.\n",
    "# Similar to Principal component analysis (PCA), NMF takes advantage of the fact that the vectors are non-negative.\n",
    "\n"
   ]
  },
  {
   "cell_type": "code",
   "execution_count": null,
   "metadata": {},
   "outputs": [],
   "source": []
  }
 ],
 "metadata": {
  "colab": {
   "collapsed_sections": [],
   "name": "LabExercise5Answer.ipynb",
   "provenance": []
  },
  "kernelspec": {
   "display_name": "Python 3 (ipykernel)",
   "language": "python",
   "name": "python3"
  },
  "language_info": {
   "codemirror_mode": {
    "name": "ipython",
    "version": 3
   },
   "file_extension": ".py",
   "mimetype": "text/x-python",
   "name": "python",
   "nbconvert_exporter": "python",
   "pygments_lexer": "ipython3",
   "version": "3.9.7"
  }
 },
 "nbformat": 4,
 "nbformat_minor": 1
}
